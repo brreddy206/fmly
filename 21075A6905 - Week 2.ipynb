{
 "cells": [
  {
   "cell_type": "markdown",
   "id": "615bdb99",
   "metadata": {},
   "source": [
    "## Central Tendency"
   ]
  },
  {
   "cell_type": "code",
   "execution_count": 1,
   "id": "75cbdb01",
   "metadata": {},
   "outputs": [
    {
     "name": "stdout",
     "output_type": "stream",
     "text": [
      "Mean or average of these numbers are ( 1 233 453 534 6 1 3 6 2 1 78 2 4 5 6 4 3 6 ) is  74.88888888888889\n"
     ]
    }
   ],
   "source": [
    "#to calculte mean\n",
    "from collections import Counter\n",
    "lt=[1,233,453,534,6,1,3,6,2,1,78,2,4,5,6,4,3,6]\n",
    "n=len(lt)\n",
    "s=sum(lt)\n",
    "m=s/n\n",
    "print(\"Mean or average of these numbers are (\",*lt,') is ',m)"
   ]
  },
  {
   "cell_type": "code",
   "execution_count": 2,
   "id": "aea76d04",
   "metadata": {},
   "outputs": [
    {
     "name": "stdout",
     "output_type": "stream",
     "text": [
      "Medain :-  4.5\n"
     ]
    }
   ],
   "source": [
    "#to calculate median\n",
    "n=len(lt)\n",
    "lt.sort()\n",
    "if(n%2==0):\n",
    "    md=(lt[n//2]+lt[n//2-1])/2\n",
    "else:\n",
    "    md=lt[n//2]\n",
    "print(\"Medain :- \",md)"
   ]
  },
  {
   "cell_type": "code",
   "execution_count": 3,
   "id": "8c309dda",
   "metadata": {},
   "outputs": [
    {
     "name": "stdout",
     "output_type": "stream",
     "text": [
      "Mode :-6\n"
     ]
    }
   ],
   "source": [
    "#to calculate mode\n",
    "n=len(lt)\n",
    "val=Counter(lt)\n",
    "d=dict(val)\n",
    "mo=[k for k,v in d.items() if v == max(list(val.values()))]\n",
    "if(len(mo)==n):\n",
    "    fm=\"No Mode\"\n",
    "else:\n",
    "#     fm=\"Mode :- \"+str(mo[0])\n",
    "    fm=\"Mode :-\"+' '.join(map(str,mo))\n",
    "print(fm)"
   ]
  },
  {
   "cell_type": "code",
   "execution_count": 17,
   "id": "ec907c5e",
   "metadata": {},
   "outputs": [
    {
     "name": "stdout",
     "output_type": "stream",
     "text": [
      "Input numbers with space >  6 5 7 8 4 1 2 3 4 5 6\n",
      "[1, 2, 3, 4, 4, 5, 5, 6, 6, 7, 8]\n",
      "Q1 = 3\n",
      "Q2 = 5 (median)\n",
      "Q3 = 6\n",
      "Interquartile = 3\n"
     ]
    }
   ],
   "source": [
    "#quartile and interquartile\n",
    "dt=sorted(list(map(int,input(\"Input numbers with space > \").split())))\n",
    "n=len(dt)\n",
    "i=n//2\n",
    "\n",
    "if(n%2==0):\n",
    "    md=(dt[i-1]+dt[i])/2\n",
    "    q3i=0\n",
    "else:\n",
    "    md=dt[i]\n",
    "    q3i=0\n",
    "\n",
    "nquartile=n//2\n",
    "i=nquartile//2\n",
    "\n",
    "if(nquartile%2==0):\n",
    "    q1=(dt[i-1]+dt[i])/2\n",
    "    q3=(dt[q3i+nquartile+i-1]+dt[q3i+nquartile+i])/2\n",
    "else:\n",
    "    q1=dt[i]\n",
    "    q3=dt[q3i+nquartile+i]\n",
    "    \n",
    "print(dt)\n",
    "print(\"Q1 =\",q1)\n",
    "print(\"Q2 =\",md, \"(median)\")\n",
    "print(\"Q3 =\", q3)\n",
    "print(\"Interquartile =\",q3-q1)"
   ]
  },
  {
   "cell_type": "code",
   "execution_count": 18,
   "id": "2fb7f169",
   "metadata": {},
   "outputs": [
    {
     "name": "stdout",
     "output_type": "stream",
     "text": [
      "301.2848412309447\n"
     ]
    }
   ],
   "source": [
    "#standard deviation\n",
    "\n",
    "from math import sqrt\n",
    "n=[2,44,66,11,8,978,23,11,6]\n",
    "mean=sum(n)/len(n)\n",
    "s=0\n",
    "for i in n:\n",
    "    s+=(i-mean)**2\n",
    "std=sqrt(s/len(n)-1)\n",
    "print(std)"
   ]
  },
  {
   "cell_type": "code",
   "execution_count": 19,
   "id": "983388f1",
   "metadata": {},
   "outputs": [
    {
     "name": "stdout",
     "output_type": "stream",
     "text": [
      "variance is: 6.666666666666667\n",
      "variance is: 14.765432098765432\n",
      "variance is: 2525.0\n"
     ]
    }
   ],
   "source": [
    "#variance\n",
    "#define a function, to calculate variance\n",
    "def variance(x):\n",
    "    m=sum(x)/len(x)\n",
    "    t=0\n",
    "    for i in x:\n",
    "        t=t+((i-m)**2)\n",
    "    return t/len(x)\n",
    "\n",
    "#call the function with data set \n",
    "x=[1,2,3,4,5,6,7,8,9]\n",
    "print(\"variance is:\",variance(x))\n",
    "\n",
    "y=[1,2,3,-4,5,6,7,8,9]\n",
    "print(\"variance is:\",variance(y))\n",
    "\n",
    "z=[10,-20,30,-40,50,-60,70,-80]\n",
    "print(\"variance is:\",variance(z))"
   ]
  },
  {
   "cell_type": "code",
   "execution_count": 20,
   "id": "1e604b98",
   "metadata": {},
   "outputs": [
    {
     "data": {
      "text/html": [
       "<div>\n",
       "<style scoped>\n",
       "    .dataframe tbody tr th:only-of-type {\n",
       "        vertical-align: middle;\n",
       "    }\n",
       "\n",
       "    .dataframe tbody tr th {\n",
       "        vertical-align: top;\n",
       "    }\n",
       "\n",
       "    .dataframe thead th {\n",
       "        text-align: right;\n",
       "    }\n",
       "</style>\n",
       "<table border=\"1\" class=\"dataframe\">\n",
       "  <thead>\n",
       "    <tr style=\"text-align: right;\">\n",
       "      <th></th>\n",
       "      <th>Name</th>\n",
       "      <th>Age</th>\n",
       "      <th>Rating</th>\n",
       "    </tr>\n",
       "  </thead>\n",
       "  <tbody>\n",
       "    <tr>\n",
       "      <th>0</th>\n",
       "      <td>Tom</td>\n",
       "      <td>25.0</td>\n",
       "      <td>4.23</td>\n",
       "    </tr>\n",
       "    <tr>\n",
       "      <th>1</th>\n",
       "      <td>James</td>\n",
       "      <td>26.0</td>\n",
       "      <td>4.00</td>\n",
       "    </tr>\n",
       "    <tr>\n",
       "      <th>2</th>\n",
       "      <td>Ricky</td>\n",
       "      <td>25.0</td>\n",
       "      <td>23.00</td>\n",
       "    </tr>\n",
       "    <tr>\n",
       "      <th>3</th>\n",
       "      <td>Vin</td>\n",
       "      <td>26.0</td>\n",
       "      <td>3.98</td>\n",
       "    </tr>\n",
       "    <tr>\n",
       "      <th>4</th>\n",
       "      <td>Steve</td>\n",
       "      <td>30.0</td>\n",
       "      <td>2.56</td>\n",
       "    </tr>\n",
       "    <tr>\n",
       "      <th>5</th>\n",
       "      <td>Smith</td>\n",
       "      <td>29.0</td>\n",
       "      <td>3.20</td>\n",
       "    </tr>\n",
       "    <tr>\n",
       "      <th>6</th>\n",
       "      <td>Jack</td>\n",
       "      <td>23.0</td>\n",
       "      <td>4.60</td>\n",
       "    </tr>\n",
       "    <tr>\n",
       "      <th>7</th>\n",
       "      <td>Lee</td>\n",
       "      <td>34.0</td>\n",
       "      <td>3.80</td>\n",
       "    </tr>\n",
       "    <tr>\n",
       "      <th>8</th>\n",
       "      <td>Chanchal</td>\n",
       "      <td>40.0</td>\n",
       "      <td>3.78</td>\n",
       "    </tr>\n",
       "    <tr>\n",
       "      <th>9</th>\n",
       "      <td>Gasper</td>\n",
       "      <td>30.0</td>\n",
       "      <td>2.98</td>\n",
       "    </tr>\n",
       "    <tr>\n",
       "      <th>10</th>\n",
       "      <td>Naviya</td>\n",
       "      <td>51.0</td>\n",
       "      <td>4.80</td>\n",
       "    </tr>\n",
       "    <tr>\n",
       "      <th>11</th>\n",
       "      <td>Andres</td>\n",
       "      <td>46.0</td>\n",
       "      <td>4.10</td>\n",
       "    </tr>\n",
       "    <tr>\n",
       "      <th>12</th>\n",
       "      <td>NaN</td>\n",
       "      <td>NaN</td>\n",
       "      <td>3.65</td>\n",
       "    </tr>\n",
       "  </tbody>\n",
       "</table>\n",
       "</div>"
      ],
      "text/plain": [
       "        Name   Age  Rating\n",
       "0        Tom  25.0    4.23\n",
       "1      James  26.0    4.00\n",
       "2      Ricky  25.0   23.00\n",
       "3        Vin  26.0    3.98\n",
       "4      Steve  30.0    2.56\n",
       "5      Smith  29.0    3.20\n",
       "6       Jack  23.0    4.60\n",
       "7        Lee  34.0    3.80\n",
       "8   Chanchal  40.0    3.78\n",
       "9     Gasper  30.0    2.98\n",
       "10    Naviya  51.0    4.80\n",
       "11    Andres  46.0    4.10\n",
       "12       NaN   NaN    3.65"
      ]
     },
     "execution_count": 20,
     "metadata": {},
     "output_type": "execute_result"
    }
   ],
   "source": [
    "import pandas as pd\n",
    "\n",
    "#create a Dictionary of series\n",
    "d={'Name' : pd.Series(['Tom','James','Ricky','Vin','Steve','Smith','Jack','Lee','Chanchal','Gasper','Naviya','Andres']),\n",
    "   'Age' : pd.Series([25,26,25,26,30,29,23,34,40,30,51,46]),\n",
    "  'Rating' : pd.Series([4.23,4,23,3.98,2.56,3.20,4.6,3.8,3.78,2.98,4.80,4.10,3.65])}\n",
    "\n",
    "#crea a DataFrame\n",
    "df = pd.DataFrame(d)\n",
    "df"
   ]
  },
  {
   "cell_type": "code",
   "execution_count": 21,
   "id": "14c9f4a1",
   "metadata": {},
   "outputs": [
    {
     "name": "stderr",
     "output_type": "stream",
     "text": [
      "C:\\Users\\sathw\\AppData\\Local\\Temp\\ipykernel_6208\\3698961737.py:1: FutureWarning: Dropping of nuisance columns in DataFrame reductions (with 'numeric_only=None') is deprecated; in a future version this will raise TypeError.  Select only valid columns before calling the reduction.\n",
      "  df.mean()\n"
     ]
    },
    {
     "data": {
      "text/plain": [
       "Age       32.083333\n",
       "Rating     5.283077\n",
       "dtype: float64"
      ]
     },
     "execution_count": 21,
     "metadata": {},
     "output_type": "execute_result"
    }
   ],
   "source": [
    "df.mean()"
   ]
  },
  {
   "cell_type": "code",
   "execution_count": 22,
   "id": "395907cd",
   "metadata": {},
   "outputs": [
    {
     "data": {
      "text/plain": [
       "5.283076923076923"
      ]
     },
     "execution_count": 22,
     "metadata": {},
     "output_type": "execute_result"
    }
   ],
   "source": [
    "df['Rating'].mean()"
   ]
  },
  {
   "cell_type": "code",
   "execution_count": 23,
   "id": "5f9f0629",
   "metadata": {},
   "outputs": [
    {
     "name": "stderr",
     "output_type": "stream",
     "text": [
      "C:\\Users\\sathw\\AppData\\Local\\Temp\\ipykernel_6208\\530051474.py:1: FutureWarning: Dropping of nuisance columns in DataFrame reductions (with 'numeric_only=None') is deprecated; in a future version this will raise TypeError.  Select only valid columns before calling the reduction.\n",
      "  df.median()\n"
     ]
    },
    {
     "data": {
      "text/plain": [
       "Age       29.50\n",
       "Rating     3.98\n",
       "dtype: float64"
      ]
     },
     "execution_count": 23,
     "metadata": {},
     "output_type": "execute_result"
    }
   ],
   "source": [
    "df.median()"
   ]
  },
  {
   "cell_type": "code",
   "execution_count": 24,
   "id": "8e4d8a95",
   "metadata": {},
   "outputs": [
    {
     "data": {
      "text/plain": [
       "3.98"
      ]
     },
     "execution_count": 24,
     "metadata": {},
     "output_type": "execute_result"
    }
   ],
   "source": [
    "df['Rating'].median()"
   ]
  },
  {
   "cell_type": "code",
   "execution_count": 25,
   "id": "e871bef0",
   "metadata": {},
   "outputs": [
    {
     "data": {
      "text/html": [
       "<div>\n",
       "<style scoped>\n",
       "    .dataframe tbody tr th:only-of-type {\n",
       "        vertical-align: middle;\n",
       "    }\n",
       "\n",
       "    .dataframe tbody tr th {\n",
       "        vertical-align: top;\n",
       "    }\n",
       "\n",
       "    .dataframe thead th {\n",
       "        text-align: right;\n",
       "    }\n",
       "</style>\n",
       "<table border=\"1\" class=\"dataframe\">\n",
       "  <thead>\n",
       "    <tr style=\"text-align: right;\">\n",
       "      <th></th>\n",
       "      <th>Name</th>\n",
       "      <th>Age</th>\n",
       "      <th>Rating</th>\n",
       "    </tr>\n",
       "  </thead>\n",
       "  <tbody>\n",
       "    <tr>\n",
       "      <th>0</th>\n",
       "      <td>Andres</td>\n",
       "      <td>25.0</td>\n",
       "      <td>2.56</td>\n",
       "    </tr>\n",
       "    <tr>\n",
       "      <th>1</th>\n",
       "      <td>Chanchal</td>\n",
       "      <td>26.0</td>\n",
       "      <td>2.98</td>\n",
       "    </tr>\n",
       "    <tr>\n",
       "      <th>2</th>\n",
       "      <td>Gasper</td>\n",
       "      <td>30.0</td>\n",
       "      <td>3.20</td>\n",
       "    </tr>\n",
       "    <tr>\n",
       "      <th>3</th>\n",
       "      <td>Jack</td>\n",
       "      <td>NaN</td>\n",
       "      <td>3.65</td>\n",
       "    </tr>\n",
       "    <tr>\n",
       "      <th>4</th>\n",
       "      <td>James</td>\n",
       "      <td>NaN</td>\n",
       "      <td>3.78</td>\n",
       "    </tr>\n",
       "    <tr>\n",
       "      <th>5</th>\n",
       "      <td>Lee</td>\n",
       "      <td>NaN</td>\n",
       "      <td>3.80</td>\n",
       "    </tr>\n",
       "    <tr>\n",
       "      <th>6</th>\n",
       "      <td>Naviya</td>\n",
       "      <td>NaN</td>\n",
       "      <td>3.98</td>\n",
       "    </tr>\n",
       "    <tr>\n",
       "      <th>7</th>\n",
       "      <td>Ricky</td>\n",
       "      <td>NaN</td>\n",
       "      <td>4.00</td>\n",
       "    </tr>\n",
       "    <tr>\n",
       "      <th>8</th>\n",
       "      <td>Smith</td>\n",
       "      <td>NaN</td>\n",
       "      <td>4.10</td>\n",
       "    </tr>\n",
       "    <tr>\n",
       "      <th>9</th>\n",
       "      <td>Steve</td>\n",
       "      <td>NaN</td>\n",
       "      <td>4.23</td>\n",
       "    </tr>\n",
       "    <tr>\n",
       "      <th>10</th>\n",
       "      <td>Tom</td>\n",
       "      <td>NaN</td>\n",
       "      <td>4.60</td>\n",
       "    </tr>\n",
       "    <tr>\n",
       "      <th>11</th>\n",
       "      <td>Vin</td>\n",
       "      <td>NaN</td>\n",
       "      <td>4.80</td>\n",
       "    </tr>\n",
       "    <tr>\n",
       "      <th>12</th>\n",
       "      <td>NaN</td>\n",
       "      <td>NaN</td>\n",
       "      <td>23.00</td>\n",
       "    </tr>\n",
       "  </tbody>\n",
       "</table>\n",
       "</div>"
      ],
      "text/plain": [
       "        Name   Age  Rating\n",
       "0     Andres  25.0    2.56\n",
       "1   Chanchal  26.0    2.98\n",
       "2     Gasper  30.0    3.20\n",
       "3       Jack   NaN    3.65\n",
       "4      James   NaN    3.78\n",
       "5        Lee   NaN    3.80\n",
       "6     Naviya   NaN    3.98\n",
       "7      Ricky   NaN    4.00\n",
       "8      Smith   NaN    4.10\n",
       "9      Steve   NaN    4.23\n",
       "10       Tom   NaN    4.60\n",
       "11       Vin   NaN    4.80\n",
       "12       NaN   NaN   23.00"
      ]
     },
     "execution_count": 25,
     "metadata": {},
     "output_type": "execute_result"
    }
   ],
   "source": [
    "df.mode()"
   ]
  },
  {
   "cell_type": "code",
   "execution_count": 26,
   "id": "ee0364c2",
   "metadata": {},
   "outputs": [
    {
     "name": "stderr",
     "output_type": "stream",
     "text": [
      "C:\\Users\\sathw\\AppData\\Local\\Temp\\ipykernel_6208\\3390915376.py:1: FutureWarning: Dropping of nuisance columns in DataFrame reductions (with 'numeric_only=None') is deprecated; in a future version this will raise TypeError.  Select only valid columns before calling the reduction.\n",
      "  df.std()\n"
     ]
    },
    {
     "data": {
      "text/plain": [
       "Age       9.009675\n",
       "Rating    5.358999\n",
       "dtype: float64"
      ]
     },
     "execution_count": 26,
     "metadata": {},
     "output_type": "execute_result"
    }
   ],
   "source": [
    "df.std()"
   ]
  },
  {
   "cell_type": "code",
   "execution_count": 27,
   "id": "8c038795",
   "metadata": {},
   "outputs": [
    {
     "name": "stderr",
     "output_type": "stream",
     "text": [
      "C:\\Users\\sathw\\AppData\\Local\\Temp\\ipykernel_6208\\1568254755.py:1: FutureWarning: Dropping of nuisance columns in DataFrame reductions (with 'numeric_only=None') is deprecated; in a future version this will raise TypeError.  Select only valid columns before calling the reduction.\n",
      "  df.var()\n"
     ]
    },
    {
     "data": {
      "text/plain": [
       "Age       81.174242\n",
       "Rating    28.718873\n",
       "dtype: float64"
      ]
     },
     "execution_count": 27,
     "metadata": {},
     "output_type": "execute_result"
    }
   ],
   "source": [
    "df.var()"
   ]
  },
  {
   "cell_type": "code",
   "execution_count": 28,
   "id": "af2ec7ab",
   "metadata": {},
   "outputs": [
    {
     "name": "stdout",
     "output_type": "stream",
     "text": [
      "27.0\n"
     ]
    }
   ],
   "source": [
    "#Interquartile range using numpy.median\n",
    "#Import the numpy library as np\n",
    "import numpy as np\n",
    "\n",
    "dt=[32,36,46,56,69,75,79,88,89,91,92,93,96,97,101,105,112,116]\n",
    "\n",
    "#First quartile(Q1)\n",
    "Q1=np.median(dt[:10])\n",
    "\n",
    "#Third quartile(Q3)\n",
    "Q3=np.median(dt[10:])\n",
    "\n",
    "#Interquartile range(IQR)\n",
    "IQR=Q3-Q1\n",
    "\n",
    "print(IQR)"
   ]
  },
  {
   "cell_type": "code",
   "execution_count": 31,
   "id": "581f05ca",
   "metadata": {},
   "outputs": [
    {
     "name": "stdout",
     "output_type": "stream",
     "text": [
      "36.5\n"
     ]
    },
    {
     "name": "stderr",
     "output_type": "stream",
     "text": [
      "C:\\Users\\sathw\\AppData\\Local\\Temp\\ipykernel_6208\\292779599.py:8: DeprecationWarning: the `interpolation=` argument to percentile was renamed to `method=`, which has additional options.\n",
      "Users of the modes 'nearest', 'lower', 'higher', or 'midpoint' are encouraged to review the method they used. (Deprecated NumPy 1.22)\n",
      "  Q1 = np.percentile(dt,25,interpolation='midpoint')\n",
      "C:\\Users\\sathw\\AppData\\Local\\Temp\\ipykernel_6208\\292779599.py:11: DeprecationWarning: the `interpolation=` argument to percentile was renamed to `method=`, which has additional options.\n",
      "Users of the modes 'nearest', 'lower', 'higher', or 'midpoint' are encouraged to review the method they used. (Deprecated NumPy 1.22)\n",
      "  q3 = np.percentile(dt,75,interpolation='midpoint')\n"
     ]
    }
   ],
   "source": [
    "#interquartile range using numpy.percentile\n",
    "\n",
    "#Import numpy library\n",
    "\n",
    "dt=[32,36,46,47,56,69,75,79,88,89,91,92,93,96,97,101,105,112,116]\n",
    "\n",
    "#First quartile\n",
    "Q1 = np.percentile(dt,25,interpolation='midpoint')\n",
    "\n",
    "#Third quartile(q3)\n",
    "q3 = np.percentile(dt,75,interpolation='midpoint')\n",
    "\n",
    "#Interquartile range (IQR)\n",
    "IQR = Q3 - Q1\n",
    "\n",
    "print(IQR)"
   ]
  }
 ],
 "metadata": {
  "kernelspec": {
   "display_name": "Python 3 (ipykernel)",
   "language": "python",
   "name": "python3"
  },
  "language_info": {
   "codemirror_mode": {
    "name": "ipython",
    "version": 3
   },
   "file_extension": ".py",
   "mimetype": "text/x-python",
   "name": "python",
   "nbconvert_exporter": "python",
   "pygments_lexer": "ipython3",
   "version": "3.10.0"
  }
 },
 "nbformat": 4,
 "nbformat_minor": 5
}
